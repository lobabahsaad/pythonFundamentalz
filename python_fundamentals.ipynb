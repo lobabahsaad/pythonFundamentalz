{
  "nbformat": 4,
  "nbformat_minor": 0,
  "metadata": {
    "colab": {
      "provenance": [],
      "authorship_tag": "ABX9TyN6EUlireqz7xe5KTQBAcbF",
      "include_colab_link": true
    },
    "kernelspec": {
      "name": "python3",
      "display_name": "Python 3"
    },
    "language_info": {
      "name": "python"
    }
  },
  "cells": [
    {
      "cell_type": "markdown",
      "metadata": {
        "id": "view-in-github",
        "colab_type": "text"
      },
      "source": [
        "<a href=\"https://colab.research.google.com/github/lobabahsaad/pythonFundamentalz/blob/main/python_fundamentals.ipynb\" target=\"_parent\"><img src=\"https://colab.research.google.com/assets/colab-badge.svg\" alt=\"Open In Colab\"/></a>"
      ]
    },
    {
      "cell_type": "code",
      "execution_count": null,
      "metadata": {
        "colab": {
          "base_uri": "https://localhost:8080/"
        },
        "id": "LNCu3ygRgxle",
        "outputId": "7923294b-a283-4f93-f792-5577d8c09023"
      },
      "outputs": [
        {
          "output_type": "stream",
          "name": "stdout",
          "text": [
            "My favorite player is Lionel Messi\n",
            "He was born in 1987\n",
            "He is 5.583333333333333 feet tall\n",
            "Is he the Greatest Of All Time? True\n",
            "<class 'str'>\n",
            "<class 'int'>\n",
            "<class 'float'>\n",
            "<class 'bool'>\n"
          ]
        }
      ],
      "source": [
        "name = 'Lionel Messi'\n",
        "print(\"My favorite player is\",name)\n",
        "\n",
        "birth_year = 1987\n",
        "print(\"He was born in\",birth_year)\n",
        "\n",
        "height = 5 + (7/12)\n",
        "print(\"He is\",height,\"feet tall\")\n",
        "\n",
        "GOAT = True\n",
        "print(\"Is he the Greatest Of All Time?\",GOAT) \n",
        "\n",
        "print(type(name))\n",
        "print(type(birth_year))\n",
        "print(type(height))\n",
        "print(type(GOAT))\n"
      ]
    },
    {
      "cell_type": "markdown",
      "source": [
        "**String Manipulation**"
      ],
      "metadata": {
        "id": "vDAM86HbxLYw"
      }
    },
    {
      "cell_type": "code",
      "source": [
        "name = \"ronaldo\"\n",
        "updated_name = name.capitalize()\n",
        "\n",
        "print(updated_name)"
      ],
      "metadata": {
        "colab": {
          "base_uri": "https://localhost:8080/"
        },
        "id": "MfhLyXP-xTYe",
        "outputId": "8aef9320-8149-458e-f742-c91c85c6de70"
      },
      "execution_count": null,
      "outputs": [
        {
          "output_type": "stream",
          "name": "stdout",
          "text": [
            "Ronaldo\n"
          ]
        }
      ]
    },
    {
      "cell_type": "code",
      "source": [
        "name_count = name.count(\"o\")\n",
        "\n",
        "print(name_count)"
      ],
      "metadata": {
        "colab": {
          "base_uri": "https://localhost:8080/"
        },
        "id": "boblvk9bygBA",
        "outputId": "6e980a8b-e2eb-4e9a-a61f-1e598fbb6e63"
      },
      "execution_count": null,
      "outputs": [
        {
          "output_type": "stream",
          "name": "stdout",
          "text": [
            "2\n"
          ]
        }
      ]
    },
    {
      "cell_type": "code",
      "source": [
        "name_startswith = name.startswith(\"r\")\n",
        "print(name_startswith)\n",
        "\n",
        "name_endswith = name.endswith(\"r\")\n",
        "print(name_endswith)"
      ],
      "metadata": {
        "colab": {
          "base_uri": "https://localhost:8080/"
        },
        "id": "LBpq2RAhyvhs",
        "outputId": "8689e3cd-ec7b-42dd-e5cb-2cf032ef0169"
      },
      "execution_count": null,
      "outputs": [
        {
          "output_type": "stream",
          "name": "stdout",
          "text": [
            "True\n",
            "False\n"
          ]
        }
      ]
    },
    {
      "cell_type": "code",
      "source": [
        "var = \"I love Russia\"\n",
        "\n",
        "print(var[0])\n",
        "print(var[1])\n",
        "print(var[2])\n",
        "\n",
        "\n",
        "print(var[1])\n",
        "\n",
        "print(var[-1])\n",
        "\n",
        "print(var[2:6])\n",
        "print(var[7:13])\n",
        "\n",
        "\n"
      ],
      "metadata": {
        "colab": {
          "base_uri": "https://localhost:8080/"
        },
        "id": "XSHMbRqA0l2n",
        "outputId": "7d3a03ac-ba68-41ee-980b-056aa0b058cc"
      },
      "execution_count": null,
      "outputs": [
        {
          "output_type": "stream",
          "name": "stdout",
          "text": [
            "I\n",
            " \n",
            "l\n",
            " \n",
            "a\n",
            "love\n",
            "Russia\n"
          ]
        }
      ]
    },
    {
      "cell_type": "code",
      "source": [
        "print(len(var))"
      ],
      "metadata": {
        "colab": {
          "base_uri": "https://localhost:8080/"
        },
        "id": "E9iSJ1Lb067z",
        "outputId": "62d0e0e8-d184-41b2-bf45-2a8145f5198c"
      },
      "execution_count": null,
      "outputs": [
        {
          "output_type": "stream",
          "name": "stdout",
          "text": [
            "13\n"
          ]
        }
      ]
    },
    {
      "cell_type": "code",
      "source": [
        "text = \"Happy New Year\"\n",
        "\n",
        "print(text.find(\"Y\"))\n",
        "print(text.index(\"a\"))"
      ],
      "metadata": {
        "id": "-rAvtrGg1AtG",
        "colab": {
          "base_uri": "https://localhost:8080/"
        },
        "outputId": "d48d8c68-34ed-48c9-a729-d01ca70a9706"
      },
      "execution_count": 5,
      "outputs": [
        {
          "output_type": "stream",
          "name": "stdout",
          "text": [
            "10\n",
            "1\n"
          ]
        }
      ]
    },
    {
      "cell_type": "code",
      "source": [
        "name = \"Shakib Al Hasan\"\n",
        "\n",
        "print(name.upper())\n",
        "print(name.lower())"
      ],
      "metadata": {
        "colab": {
          "base_uri": "https://localhost:8080/"
        },
        "id": "qGt1z_-qBXdG",
        "outputId": "4e413208-0ef1-4a93-fb8c-fbe2a93115e6"
      },
      "execution_count": 7,
      "outputs": [
        {
          "output_type": "stream",
          "name": "stdout",
          "text": [
            "SHAKIB AL HASAN\n",
            "shakib al hasan\n"
          ]
        }
      ]
    },
    {
      "cell_type": "code",
      "source": [
        "text = \"Haqqy New Year\"\n",
        "\n",
        "print(text.replace(\"q\",\"p\"))"
      ],
      "metadata": {
        "colab": {
          "base_uri": "https://localhost:8080/"
        },
        "id": "OIU4JkhjEBMy",
        "outputId": "5e0de22f-d32c-4fc0-94bf-83a51acceb50"
      },
      "execution_count": 9,
      "outputs": [
        {
          "output_type": "stream",
          "name": "stdout",
          "text": [
            "Happy New Year\n"
          ]
        }
      ]
    },
    {
      "cell_type": "code",
      "source": [
        "name = \"ShakibAlHasan\"\n",
        "\n",
        "print(name.isalpha())\n",
        "print(name.isupper())\n",
        "print(name.islower())\n",
        "print(name.isdigit())"
      ],
      "metadata": {
        "colab": {
          "base_uri": "https://localhost:8080/"
        },
        "id": "l0dwsJLPKbWS",
        "outputId": "96586274-ac63-487d-f011-9d3d37eb1396"
      },
      "execution_count": 15,
      "outputs": [
        {
          "output_type": "stream",
          "name": "stdout",
          "text": [
            "True\n",
            "False\n",
            "False\n",
            "False\n"
          ]
        }
      ]
    },
    {
      "cell_type": "code",
      "source": [],
      "metadata": {
        "id": "B8k6B3j9L6_q"
      },
      "execution_count": null,
      "outputs": []
    },
    {
      "cell_type": "markdown",
      "source": [
        "**LECTURE 04**"
      ],
      "metadata": {
        "id": "yJXI6c1IUjGs"
      }
    },
    {
      "cell_type": "markdown",
      "source": [
        "LIST, TUPLE AND DICTIONARY"
      ],
      "metadata": {
        "id": "GhQOsGU5UrhI"
      }
    },
    {
      "cell_type": "code",
      "source": [
        "fam = [\"abbu\", 5.6, \"ammu\", 5, \"me\", 5.8, \"wife\", 5.4]\n",
        "\n",
        "print(fam[1])\n",
        "print(fam[0:2])\n",
        "print(fam[4:6])\n",
        "print(fam[-2:])\n",
        "print(fam[:5])"
      ],
      "metadata": {
        "colab": {
          "base_uri": "https://localhost:8080/"
        },
        "id": "jdBs9WZ5UyvQ",
        "outputId": "7ffcba85-510f-4e30-dde7-7b85f9e016ad"
      },
      "execution_count": 20,
      "outputs": [
        {
          "output_type": "stream",
          "name": "stdout",
          "text": [
            "5.6\n",
            "['abbu', 5.6]\n",
            "['me', 5.8]\n",
            "['wife', 5.4]\n",
            "['abbu', 5.6, 'ammu', 5, 'me']\n"
          ]
        }
      ]
    },
    {
      "cell_type": "code",
      "source": [
        "len(fam)"
      ],
      "metadata": {
        "colab": {
          "base_uri": "https://localhost:8080/"
        },
        "id": "f02AcVnKUnno",
        "outputId": "ada93adf-964c-4a04-b088-78167f5a00a9"
      },
      "execution_count": 21,
      "outputs": [
        {
          "output_type": "execute_result",
          "data": {
            "text/plain": [
              "8"
            ]
          },
          "metadata": {},
          "execution_count": 21
        }
      ]
    },
    {
      "cell_type": "code",
      "source": [
        "print(\"abbu\" in fam)\n",
        "print(\"choto\" in fam)"
      ],
      "metadata": {
        "colab": {
          "base_uri": "https://localhost:8080/"
        },
        "id": "dZHJ8ymRV7_w",
        "outputId": "85fffb99-1b76-4739-8040-4df2e1c4b348"
      },
      "execution_count": 23,
      "outputs": [
        {
          "output_type": "stream",
          "name": "stdout",
          "text": [
            "True\n",
            "False\n"
          ]
        }
      ]
    },
    {
      "cell_type": "code",
      "source": [
        "fam.append(\"choto\")\n",
        "fam.append(6.2)\n",
        "\n",
        "print(fam)"
      ],
      "metadata": {
        "colab": {
          "base_uri": "https://localhost:8080/"
        },
        "id": "xBZyYYSVWpMu",
        "outputId": "cd06f3e6-4692-4bb3-a95a-2be4977c6134"
      },
      "execution_count": 28,
      "outputs": [
        {
          "output_type": "stream",
          "name": "stdout",
          "text": [
            "['abbu', 5.6, 'ammu', 5, 'me', 5.8, 'wife', 5.4, 'choto', 'choto', 6.2, 'choto', 6.2]\n"
          ]
        }
      ]
    },
    {
      "cell_type": "code",
      "source": [
        "fam.reverse()\n",
        "\n",
        "print(fam)"
      ],
      "metadata": {
        "colab": {
          "base_uri": "https://localhost:8080/"
        },
        "id": "K60t_swGW2pg",
        "outputId": "054c4903-0c5d-4028-fc03-5971e704b186"
      },
      "execution_count": 29,
      "outputs": [
        {
          "output_type": "stream",
          "name": "stdout",
          "text": [
            "[6.2, 'choto', 6.2, 'choto', 'choto', 5.4, 'wife', 5.8, 'me', 5, 'ammu', 5.6, 'abbu']\n"
          ]
        }
      ]
    },
    {
      "cell_type": "code",
      "source": [
        "even = [4,2,8,-2,-6,10]\n",
        "\n",
        "print(sorted(even, reverse=False))   #default #ascending order\n",
        "print(sorted(even, reverse=True))    #descending order"
      ],
      "metadata": {
        "colab": {
          "base_uri": "https://localhost:8080/"
        },
        "id": "qFhDq692XicC",
        "outputId": "de127696-2c4e-42bf-d953-d6140ed0f157"
      },
      "execution_count": 33,
      "outputs": [
        {
          "output_type": "stream",
          "name": "stdout",
          "text": [
            "[-6, -2, 2, 4, 8, 10]\n",
            "[10, 8, 4, 2, -2, -6]\n"
          ]
        }
      ]
    },
    {
      "cell_type": "markdown",
      "source": [],
      "metadata": {
        "id": "NebPTJY1UqUT"
      }
    },
    {
      "cell_type": "code",
      "source": [
        "list_A = [1,2,3]\n",
        "list_B = [4,5,6]\n",
        "\n",
        "list = list_A + list_B\n",
        "print(list)"
      ],
      "metadata": {
        "colab": {
          "base_uri": "https://localhost:8080/"
        },
        "id": "2WJp8SEFYurM",
        "outputId": "2608dc86-2fcb-468f-95ed-275fd64b22a4"
      },
      "execution_count": 34,
      "outputs": [
        {
          "output_type": "stream",
          "name": "stdout",
          "text": [
            "[1, 2, 3, 4, 5, 6]\n"
          ]
        }
      ]
    },
    {
      "cell_type": "code",
      "source": [
        "even = [4,2,8,-2,-6,10]\n",
        "\n",
        "print(sum(even))\n",
        "print(max(even))\n",
        "print(min(even))\n",
        "\n",
        "even.remove(-2)\n",
        "print(even)\n",
        "\n",
        "print(even.count(4))"
      ],
      "metadata": {
        "colab": {
          "base_uri": "https://localhost:8080/"
        },
        "id": "vWFP4r1IY8-m",
        "outputId": "514d1ffb-9055-4692-91a1-96bcd3942424"
      },
      "execution_count": 39,
      "outputs": [
        {
          "output_type": "stream",
          "name": "stdout",
          "text": [
            "16\n",
            "10\n",
            "-6\n",
            "[4, 2, 8, -6, 10]\n",
            "1\n"
          ]
        }
      ]
    },
    {
      "cell_type": "markdown",
      "source": [
        "**TUPLE**"
      ],
      "metadata": {
        "id": "IpMrrRCAgbvP"
      }
    },
    {
      "cell_type": "code",
      "source": [
        "mov = (\"the\", \"faults\", \"in\", \"our\", \"stars\")\n",
        "\n",
        "print(type(mov))"
      ],
      "metadata": {
        "colab": {
          "base_uri": "https://localhost:8080/"
        },
        "id": "Josom71tZs_i",
        "outputId": "11c3b4cb-1cb2-4240-cb4d-5727433bf001"
      },
      "execution_count": 40,
      "outputs": [
        {
          "output_type": "stream",
          "name": "stdout",
          "text": [
            "<class 'tuple'>\n"
          ]
        }
      ]
    },
    {
      "cell_type": "code",
      "source": [
        "print(mov[:2])\n",
        "print(mov[-1])"
      ],
      "metadata": {
        "colab": {
          "base_uri": "https://localhost:8080/"
        },
        "id": "JVpj6tWIgpzE",
        "outputId": "b221f422-475a-418f-9619-11f8845ac98f"
      },
      "execution_count": 42,
      "outputs": [
        {
          "output_type": "stream",
          "name": "stdout",
          "text": [
            "('the', 'faults')\n",
            "stars\n"
          ]
        }
      ]
    },
    {
      "cell_type": "markdown",
      "source": [
        "**SET**"
      ],
      "metadata": {
        "id": "D_CWfA_oiqhT"
      }
    },
    {
      "cell_type": "code",
      "source": [
        "a = {1,2,3,4}\n",
        "b = {3,4,5,6}"
      ],
      "metadata": {
        "id": "780ctndxg0BA"
      },
      "execution_count": 43,
      "outputs": []
    },
    {
      "cell_type": "code",
      "source": [
        "#union\n",
        "c = a.union(b)\n",
        "print(c)\n",
        "\n",
        "#intersection\n",
        "d = a.intersection(b)\n",
        "print(d)\n",
        "\n",
        "#difference\n",
        "e = a.difference(b)\n",
        "f = b.difference(a)\n",
        "\n",
        "print(e)\n",
        "print(f)"
      ],
      "metadata": {
        "colab": {
          "base_uri": "https://localhost:8080/"
        },
        "id": "y9OA4EK3i2vw",
        "outputId": "02e7165c-4b77-456d-c45a-6f71205749df"
      },
      "execution_count": 48,
      "outputs": [
        {
          "output_type": "stream",
          "name": "stdout",
          "text": [
            "{1, 2, 3, 4, 5, 6}\n",
            "{3, 4}\n",
            "{1, 2}\n",
            "{5, 6}\n"
          ]
        }
      ]
    },
    {
      "cell_type": "markdown",
      "source": [
        "DICTIONARY"
      ],
      "metadata": {
        "id": "o-FRN7LExvDR"
      }
    },
    {
      "cell_type": "code",
      "source": [
        "contacts = {\"abul\": 111,\n",
        "            \"babul\": 222,\n",
        "            \"bipul\": 333}\n",
        "\n",
        "print(contacts)\n",
        "print(contacts[\"babul\"])\n",
        "print(contacts.keys())\n",
        "print(contacts.values())\n"
      ],
      "metadata": {
        "colab": {
          "base_uri": "https://localhost:8080/"
        },
        "id": "D0JfuYpCi_Dz",
        "outputId": "2dd0289b-fc39-446a-975f-44fd1d9b9652"
      },
      "execution_count": 51,
      "outputs": [
        {
          "output_type": "stream",
          "name": "stdout",
          "text": [
            "{'abul': 111, 'babul': 222, 'bipul': 333}\n",
            "222\n",
            "dict_keys(['abul', 'babul', 'bipul'])\n",
            "dict_values([111, 222, 333])\n"
          ]
        }
      ]
    },
    {
      "cell_type": "code",
      "source": [
        "#updating contact info\n",
        "contacts[\"bipul\"] = [444,555]\n",
        "print(contacts)\n",
        "\n",
        "#enlisting new contact info\n",
        "contacts[\"shakil\"] = [789,456]\n",
        "\n",
        "print(contacts)"
      ],
      "metadata": {
        "colab": {
          "base_uri": "https://localhost:8080/"
        },
        "id": "SZrhYZqfyD-u",
        "outputId": "6fc2d774-8848-411a-b9eb-987320d9b1ed"
      },
      "execution_count": 54,
      "outputs": [
        {
          "output_type": "stream",
          "name": "stdout",
          "text": [
            "{'abul': 111, 'babul': 222, 'bipul': [444, 555], 'shakil': 789}\n",
            "{'abul': 111, 'babul': 222, 'bipul': [444, 555], 'shakil': [789, 456]}\n"
          ]
        }
      ]
    },
    {
      "cell_type": "code",
      "source": [
        "#updating contact list\n",
        "dic = {\"rony\" : 999}\n",
        "\n",
        "contacts.update(dic)\n",
        "print(contacts)\n",
        "\n",
        "del contacts[\"bipul\"]\n",
        "print(contacts)\n"
      ],
      "metadata": {
        "colab": {
          "base_uri": "https://localhost:8080/"
        },
        "id": "7KWOMZ_4zC4j",
        "outputId": "301ccc69-9387-4e1f-a0ec-b309cec764ac"
      },
      "execution_count": 57,
      "outputs": [
        {
          "output_type": "stream",
          "name": "stdout",
          "text": [
            "{'abul': 111, 'babul': 222, 'shakil': [789, 456], 'rony': 999}\n"
          ]
        }
      ]
    },
    {
      "cell_type": "markdown",
      "source": [
        "**Lecture 05** \n",
        "\n",
        "LOOP"
      ],
      "metadata": {
        "id": "naSO1eI_4EZm"
      }
    },
    {
      "cell_type": "code",
      "source": [
        "nums = [1,2,3,4,5,6]\n",
        "sq_list = []\n",
        "\n",
        "for item in nums:\n",
        "  sq = item*item\n",
        "  sq_list.append(sq)\n",
        "  print(\"Item =\", item,\"Square =\",sq_list)\n",
        "\n",
        "print(sq_list)"
      ],
      "metadata": {
        "colab": {
          "base_uri": "https://localhost:8080/"
        },
        "id": "wKRerSm40Hd0",
        "outputId": "89f72679-e2fb-4f57-efb9-95130ca1aa12"
      },
      "execution_count": 62,
      "outputs": [
        {
          "output_type": "stream",
          "name": "stdout",
          "text": [
            "Item = 1 Square = [1]\n",
            "Item = 2 Square = [1, 4]\n",
            "Item = 3 Square = [1, 4, 9]\n",
            "Item = 4 Square = [1, 4, 9, 16]\n",
            "Item = 5 Square = [1, 4, 9, 16, 25]\n",
            "Item = 6 Square = [1, 4, 9, 16, 25, 36]\n",
            "[1, 4, 9, 16, 25, 36]\n"
          ]
        }
      ]
    },
    {
      "cell_type": "markdown",
      "source": [
        "WRITING FUNCTIONS"
      ],
      "metadata": {
        "id": "lYI3aewQ8K8V"
      }
    },
    {
      "cell_type": "code",
      "source": [
        "def add(input_1,input_2):\n",
        "  output = input_1 + input_2\n",
        "  return output"
      ],
      "metadata": {
        "id": "GE9bzpOR4cr0"
      },
      "execution_count": 63,
      "outputs": []
    },
    {
      "cell_type": "code",
      "source": [
        "add(5,6)"
      ],
      "metadata": {
        "colab": {
          "base_uri": "https://localhost:8080/"
        },
        "id": "T-Vger2K8o91",
        "outputId": "fbff98fe-8dbf-4416-e552-dd83b78e960f"
      },
      "execution_count": 64,
      "outputs": [
        {
          "output_type": "execute_result",
          "data": {
            "text/plain": [
              "11"
            ]
          },
          "metadata": {},
          "execution_count": 64
        }
      ]
    },
    {
      "cell_type": "code",
      "source": [
        "def square(input_list):\n",
        "  sq_list = []\n",
        "\n",
        "  for item in input_list:\n",
        "    sq = item*item\n",
        "    sq_list.append(sq)\n",
        "  return sq_list \n"
      ],
      "metadata": {
        "id": "UmMTytZO8qkN"
      },
      "execution_count": 69,
      "outputs": []
    },
    {
      "cell_type": "code",
      "source": [
        "square([1,2,3,4,5,6])"
      ],
      "metadata": {
        "colab": {
          "base_uri": "https://localhost:8080/"
        },
        "id": "9KSOzfPU90d0",
        "outputId": "bb9ad927-f301-4221-9dfd-76a2e9a4c321"
      },
      "execution_count": 70,
      "outputs": [
        {
          "output_type": "execute_result",
          "data": {
            "text/plain": [
              "[1, 4, 9, 16, 25, 36]"
            ]
          },
          "metadata": {},
          "execution_count": 70
        }
      ]
    },
    {
      "cell_type": "markdown",
      "source": [
        "**IF ELSE CONDITION**"
      ],
      "metadata": {
        "id": "OufI43T8B_zS"
      }
    },
    {
      "cell_type": "code",
      "source": [
        "for i in range(1,11):\n",
        "  if i%2 == 0:\n",
        "    print(i,\"is an EVEN number\")\n",
        "  else: \n",
        "    print(i,\"is an ODD number\")"
      ],
      "metadata": {
        "colab": {
          "base_uri": "https://localhost:8080/"
        },
        "id": "Qb-PUbnoCF6z",
        "outputId": "efcf8533-4632-43c6-9d80-4b73407293a6"
      },
      "execution_count": 72,
      "outputs": [
        {
          "output_type": "stream",
          "name": "stdout",
          "text": [
            "1 is an ODD number\n",
            "2 is an EVEN number\n",
            "3 is an ODD number\n",
            "4 is an EVEN number\n",
            "5 is an ODD number\n",
            "6 is an EVEN number\n",
            "7 is an ODD number\n",
            "8 is an EVEN number\n",
            "9 is an ODD number\n",
            "10 is an EVEN number\n"
          ]
        }
      ]
    },
    {
      "cell_type": "markdown",
      "source": [
        "WHILE LOOP"
      ],
      "metadata": {
        "id": "sM4nofU7Dh81"
      }
    },
    {
      "cell_type": "code",
      "source": [
        "c = 0\n",
        "while c < 3:\n",
        "  print(\"I love you\")\n",
        "  c = c+1"
      ],
      "metadata": {
        "colab": {
          "base_uri": "https://localhost:8080/"
        },
        "id": "ZGqcBi3pCNm7",
        "outputId": "a24b1d45-f294-472c-e3f6-5187512d9a88"
      },
      "execution_count": 73,
      "outputs": [
        {
          "output_type": "stream",
          "name": "stdout",
          "text": [
            "I love you\n",
            "I love you\n",
            "I love you\n"
          ]
        }
      ]
    },
    {
      "cell_type": "markdown",
      "source": [
        "**Lecture 06**\n",
        "\n",
        "Math Functions"
      ],
      "metadata": {
        "id": "lMQRe7wNuxWv"
      }
    },
    {
      "cell_type": "code",
      "source": [
        "import math\n",
        "\n",
        "def powerOfTwo(n):\n",
        "  x = math.log10(n)/math.log10(2)\n",
        "\n",
        "  print(x)\n",
        "  print(int(x))\n",
        "  return n == 2**int(x)"
      ],
      "metadata": {
        "id": "XX1N8RUZDvyl"
      },
      "execution_count": 3,
      "outputs": []
    },
    {
      "cell_type": "code",
      "source": [
        "example = powerOfTwo(13)\n",
        "print(example)"
      ],
      "metadata": {
        "colab": {
          "base_uri": "https://localhost:8080/"
        },
        "id": "3MqvAywG-1z8",
        "outputId": "a79ff851-51d7-42c5-c61b-397a908294d4"
      },
      "execution_count": 6,
      "outputs": [
        {
          "output_type": "stream",
          "name": "stdout",
          "text": [
            "3.700439718141092\n",
            "3\n",
            "False\n"
          ]
        }
      ]
    },
    {
      "cell_type": "code",
      "source": [
        "def containDuplicate(nums):\n",
        "  return len(nums) != len(set(nums)) "
      ],
      "metadata": {
        "id": "FHvlH7Zh_qz8"
      },
      "execution_count": 7,
      "outputs": []
    },
    {
      "cell_type": "code",
      "source": [
        "example = containDuplicate([1,2,3,4])\n",
        "print(example)"
      ],
      "metadata": {
        "colab": {
          "base_uri": "https://localhost:8080/"
        },
        "id": "mYiYWvCY_4X4",
        "outputId": "2b82528f-8e16-4751-d388-8faebe9134ab"
      },
      "execution_count": 9,
      "outputs": [
        {
          "output_type": "stream",
          "name": "stdout",
          "text": [
            "False\n"
          ]
        }
      ]
    },
    {
      "cell_type": "code",
      "source": [
        "def twoSums(nums, target):\n",
        "  dict = {}\n",
        "  for i in range(len(nums)):\n",
        "    goal = target - nums[i]\n",
        "\n",
        "    if (goal in dict):\n",
        "      return [dict[goal], i]\n",
        "\n",
        "    dict[nums[i]] = i\n"
      ],
      "metadata": {
        "id": "Ij59QkujAEGi"
      },
      "execution_count": 12,
      "outputs": []
    },
    {
      "cell_type": "code",
      "source": [
        "example = twoSums([1,3,2],5)\n",
        "print(example)"
      ],
      "metadata": {
        "colab": {
          "base_uri": "https://localhost:8080/"
        },
        "id": "FS8RugiUGRD6",
        "outputId": "261cefcf-58df-4720-eb13-205b57795328"
      },
      "execution_count": 13,
      "outputs": [
        {
          "output_type": "stream",
          "name": "stdout",
          "text": [
            "[1, 2]\n"
          ]
        }
      ]
    },
    {
      "cell_type": "code",
      "source": [
        "example = twoSums([1,7,3,2],9)\n",
        "print(example)"
      ],
      "metadata": {
        "colab": {
          "base_uri": "https://localhost:8080/"
        },
        "id": "QF0skk76Gbm9",
        "outputId": "d61f2264-982a-45f8-a62d-c3887b946e5f"
      },
      "execution_count": 15,
      "outputs": [
        {
          "output_type": "stream",
          "name": "stdout",
          "text": [
            "[1, 3]\n"
          ]
        }
      ]
    },
    {
      "cell_type": "markdown",
      "source": [
        "**LECTURE 08**\n",
        "\n",
        "NUMPY ARRAY"
      ],
      "metadata": {
        "id": "1-Xcv3bCOcE0"
      }
    },
    {
      "cell_type": "code",
      "source": [
        "list_1 = [1,2,3,4,5,6,7,8,9]\n",
        "list_2 = [4,54,6,7,8,9,10,12,14]"
      ],
      "metadata": {
        "id": "PM_863r1OkFu"
      },
      "execution_count": 26,
      "outputs": []
    },
    {
      "cell_type": "code",
      "source": [
        "import numpy as np"
      ],
      "metadata": {
        "id": "OzJer8-qehAX"
      },
      "execution_count": 33,
      "outputs": []
    },
    {
      "cell_type": "code",
      "source": [
        "arr_1 = np.array(list_1)\n",
        "arr_2 = np.array(list_2)\n",
        "\n",
        "print(arr_1)\n",
        "print(arr_2)\n",
        "\n",
        "#addition\n",
        "a_add = arr_1 + arr_2\n",
        "print(a_add)\n",
        "\n",
        "#subtraction\n",
        "a_sub = arr_1 - arr_2\n",
        "print(a_sub)"
      ],
      "metadata": {
        "colab": {
          "base_uri": "https://localhost:8080/"
        },
        "id": "cz-K4gXIekpE",
        "outputId": "9596076a-94dc-4580-9154-ddf4b37a111d"
      },
      "execution_count": 29,
      "outputs": [
        {
          "output_type": "stream",
          "name": "stdout",
          "text": [
            "[1 2 3 4 5 6 7 8 9]\n",
            "[ 4 54  6  7  8  9 10 12 14]\n",
            "[ 5 56  9 11 13 15 17 20 23]\n",
            "[ -3 -52  -3  -3  -3  -3  -3  -4  -5]\n"
          ]
        }
      ]
    },
    {
      "cell_type": "markdown",
      "source": [
        "**2D ARRAY**"
      ],
      "metadata": {
        "id": "qYRjjJnQhwxZ"
      }
    },
    {
      "cell_type": "code",
      "source": [
        "a1 = np.array([[1,2,3],\n",
        "               [4,5,6]])\n",
        "a2 = np.array([[1,2,3],\n",
        "                  [4,5,6]])\n",
        "\n",
        "print(a1)\n",
        "print(a2)\n",
        "\n",
        "#addition\n",
        "a2d_add = np.add(a1,a2)\n",
        "print(\"addition = \\n\",a2d_add)\n",
        "\n",
        "#subtraction\n",
        "a2d_sub = np.subtract(a1,a2)\n",
        "print(\"subtraction = \\n\",a2d_sub)\n",
        "\n",
        "#multiplication \n",
        "a2d_mul = np.multiply(a1,a2)\n",
        "print(\"multiplication = \\n\",a2d_mul)\n",
        "\n",
        "#division \n",
        "a2d_div = np.divide(a1,a2)\n",
        "print(\"division = \\n\",a2d_div)"
      ],
      "metadata": {
        "colab": {
          "base_uri": "https://localhost:8080/"
        },
        "id": "5dVaSsb9erlw",
        "outputId": "112e78e4-a6b2-455b-bb0c-5ea6e2a81cee"
      },
      "execution_count": 45,
      "outputs": [
        {
          "output_type": "stream",
          "name": "stdout",
          "text": [
            "[[1 2 3]\n",
            " [4 5 6]]\n",
            "[[1 2 3]\n",
            " [4 5 6]]\n",
            "addition = \n",
            " [[ 2  4  6]\n",
            " [ 8 10 12]]\n",
            "subtraction = \n",
            " [[0 0 0]\n",
            " [0 0 0]]\n",
            "multiplication = \n",
            " [[ 1  4  9]\n",
            " [16 25 36]]\n",
            "division = \n",
            " [[1. 1. 1.]\n",
            " [1. 1. 1.]]\n"
          ]
        }
      ]
    },
    {
      "cell_type": "code",
      "source": [
        "a6 = np.array([2,2,2,2,2])\n",
        "a7 = np.array([1,2,3,4,5])\n",
        "a8 = np.array([1.05, -2, 3.5, -4, 7.75])\n",
        "\n",
        "\n",
        "a_pow = np.power(a6, a7)\n",
        "print(a_pow)\n",
        "\n",
        "a_sqr = np.square(a7)\n",
        "print(a_sqr)\n",
        "\n",
        "a_abs = np.abs(a8)\n",
        "print(a_abs)"
      ],
      "metadata": {
        "colab": {
          "base_uri": "https://localhost:8080/"
        },
        "id": "ARt__-ndiZDp",
        "outputId": "163fbb92-bf69-4066-a9da-6d2a344eae13"
      },
      "execution_count": 54,
      "outputs": [
        {
          "output_type": "stream",
          "name": "stdout",
          "text": [
            "[ 2  4  8 16 32]\n",
            "[ 1  4  9 16 25]\n",
            "[1.05 2.   3.5  4.   7.75]\n"
          ]
        }
      ]
    },
    {
      "cell_type": "markdown",
      "source": [
        "CEILING, FLOORING AND ROUNDING"
      ],
      "metadata": {
        "id": "SxaQ1zU6q7ot"
      }
    },
    {
      "cell_type": "code",
      "source": [
        "#a8 = np.array([1.05, -2, 3.5, -4, 7.25])\n",
        "\n",
        "#ceiling\n",
        "a_ceil = np.ceil(a8)\n",
        "print(a_ceil) \n",
        "\n",
        "#flooring\n",
        "a_floor = np.floor(a8)\n",
        "print(a_floor)\n",
        "\n",
        "#rounding\n",
        "a_round = np.round(a8)\n",
        "print(a_round)"
      ],
      "metadata": {
        "colab": {
          "base_uri": "https://localhost:8080/"
        },
        "id": "UoOFd59hqOmg",
        "outputId": "5a26e073-68ce-4555-d259-1a44a846bb5e"
      },
      "execution_count": 55,
      "outputs": [
        {
          "output_type": "stream",
          "name": "stdout",
          "text": [
            "[ 2. -2.  4. -4.  8.]\n",
            "[ 1. -2.  3. -4.  7.]\n",
            "[ 1. -2.  4. -4.  8.]\n"
          ]
        }
      ]
    },
    {
      "cell_type": "markdown",
      "source": [
        "**SUM**"
      ],
      "metadata": {
        "id": "4MoJ1p52sgzq"
      }
    },
    {
      "cell_type": "code",
      "source": [
        "a6 = np.array([2,2,2,2,2])\n",
        "a7 = np.array([1,2,3,4,5])\n",
        "\n",
        "#array sum\n",
        "a_sum = np.sum([a6,a7])\n",
        "print(\"array sum =\", a_sum)\n",
        "\n",
        "#column sum\n",
        "col_sum = np.sum([a6,a7], axis=0)\n",
        "print(\"column sum =\", col_sum)\n",
        "\n",
        "#row sum\n",
        "row_sum = np.sum([a6,a7], axis=1)\n",
        "print(\"row sum =\", row_sum)"
      ],
      "metadata": {
        "colab": {
          "base_uri": "https://localhost:8080/"
        },
        "id": "iLJHD0kmq0P2",
        "outputId": "1be6feec-a36c-45b4-a700-6667fb08b390"
      },
      "execution_count": 58,
      "outputs": [
        {
          "output_type": "stream",
          "name": "stdout",
          "text": [
            "array sum = 25\n",
            "column sum = [3 4 5 6 7]\n",
            "row sum = [10 15]\n"
          ]
        }
      ]
    },
    {
      "cell_type": "markdown",
      "source": [
        "**PRODUCT**"
      ],
      "metadata": {
        "id": "NjImTb3GuqYH"
      }
    },
    {
      "cell_type": "code",
      "source": [
        "a6 = np.array([2,2,2,2,2])\n",
        "a7 = np.array([1,2,3,4,5])\n",
        "\n",
        "#array product\n",
        "a_prod = np.prod([a6,a7])\n",
        "print(\"array product =\", a_prod)\n",
        "\n",
        "#column product\n",
        "col_prod = np.sum([a6,a7], axis=0)\n",
        "print(\"column product =\", col_prod)\n",
        "\n",
        "#row product\n",
        "row_prod = np.sum([a6,a7], axis=1)\n",
        "print(\"row product =\", row_prod)"
      ],
      "metadata": {
        "colab": {
          "base_uri": "https://localhost:8080/"
        },
        "id": "Y0HzZsdTs0rl",
        "outputId": "64f65ca2-ab52-437d-bf59-dff5f757fa17"
      },
      "execution_count": 60,
      "outputs": [
        {
          "output_type": "stream",
          "name": "stdout",
          "text": [
            "array product = 3840\n",
            "column product = [3 4 5 6 7]\n",
            "row product = [10 15]\n"
          ]
        }
      ]
    },
    {
      "cell_type": "markdown",
      "source": [
        "Creating Matrix "
      ],
      "metadata": {
        "id": "U1NypPE036u_"
      }
    },
    {
      "cell_type": "code",
      "source": [
        "#identical matrix\n",
        "identical_matrix = np.eye(3)\n",
        "print(identical_matrix)\n",
        "\n",
        "#one matrix\n",
        "one_matrix = np.ones((3,3))\n",
        "print(one_matrix)"
      ],
      "metadata": {
        "colab": {
          "base_uri": "https://localhost:8080/"
        },
        "id": "aaxX9Z-wvjvX",
        "outputId": "20bf02bd-1307-4ed1-91b9-df6bed2c1d41"
      },
      "execution_count": 64,
      "outputs": [
        {
          "output_type": "stream",
          "name": "stdout",
          "text": [
            "[[1. 0. 0.]\n",
            " [0. 1. 0.]\n",
            " [0. 0. 1.]]\n",
            "[[1. 1. 1.]\n",
            " [1. 1. 1.]\n",
            " [1. 1. 1.]]\n"
          ]
        }
      ]
    },
    {
      "cell_type": "markdown",
      "source": [
        "Matrix Multiplication"
      ],
      "metadata": {
        "id": "hce2e_3o4fg1"
      }
    },
    {
      "cell_type": "code",
      "source": [
        "#matrix multiplication\n",
        "mat_mul = np.matmul(identical_matrix, one_matrix)\n",
        "print(mat_mul)\n",
        "\n",
        "#diagonal attributes\n",
        "array_diag = np.diag(identical_matrix)\n",
        "print(array_diag)"
      ],
      "metadata": {
        "colab": {
          "base_uri": "https://localhost:8080/"
        },
        "id": "AynZo_kR4IJA",
        "outputId": "db2a9975-2a23-4482-b704-87e67e00fc5b"
      },
      "execution_count": 67,
      "outputs": [
        {
          "output_type": "stream",
          "name": "stdout",
          "text": [
            "[[1. 1. 1.]\n",
            " [1. 1. 1.]\n",
            " [1. 1. 1.]]\n",
            "[1. 1. 1.]\n"
          ]
        }
      ]
    },
    {
      "cell_type": "markdown",
      "source": [
        "ARRAY INDEXING AND SLICING"
      ],
      "metadata": {
        "id": "IJhhPw8Z-nli"
      }
    },
    {
      "cell_type": "code",
      "source": [
        "a1 = np.array([[1,2,3],\n",
        "               [4,5,6]])\n",
        "\n",
        "print(a1.shape)\n",
        "print(a1[1])\n"
      ],
      "metadata": {
        "colab": {
          "base_uri": "https://localhost:8080/"
        },
        "id": "uXtKszTP4upT",
        "outputId": "6aa6236d-d9ae-4070-d6d1-bbd04d6b0736"
      },
      "execution_count": 82,
      "outputs": [
        {
          "output_type": "stream",
          "name": "stdout",
          "text": [
            "(2, 3)\n",
            "[4 5 6]\n"
          ]
        }
      ]
    },
    {
      "cell_type": "markdown",
      "source": [
        "**LECTURE 08**\n",
        "\n",
        "DATA ANALYSIS IN PYTHON: PANDAS"
      ],
      "metadata": {
        "id": "Q2kXHndQEHQc"
      }
    },
    {
      "cell_type": "code",
      "source": [
        "#reading a csv file as DataFrame\n",
        "\n",
        "import pandas as pd\n",
        "df = pd.read_csv(\"telecom_data.csv\")"
      ],
      "metadata": {
        "id": "Li-WgkBl-y81"
      },
      "execution_count": 83,
      "outputs": []
    },
    {
      "cell_type": "code",
      "source": [
        "display(df)"
      ],
      "metadata": {
        "colab": {
          "base_uri": "https://localhost:8080/",
          "height": 424
        },
        "id": "NKlxXhcfWsrt",
        "outputId": "e7fbdc6a-2f1a-438b-bc58-2775680f798a"
      },
      "execution_count": 84,
      "outputs": [
        {
          "output_type": "display_data",
          "data": {
            "text/plain": [
              "      Account_Length  Vmail_Message  CustServ_Calls Churn Intl_Plan  \\\n",
              "0                128             25               1    no        no   \n",
              "1                107             26               1    no        no   \n",
              "2                137              0               0    no        no   \n",
              "3                 84              0               2    no       yes   \n",
              "4                 75              0               3    no       yes   \n",
              "...              ...            ...             ...   ...       ...   \n",
              "3328             192             36               2    no        no   \n",
              "3329              68              0               3    no        no   \n",
              "3330              28              0               2    no        no   \n",
              "3331             184              0               2    no       yes   \n",
              "3332              74             25               0    no        no   \n",
              "\n",
              "     Vmail_Plan  Total_mins  Total_calls  Total_charges  \n",
              "0           yes       717.2          303         320.26  \n",
              "1           yes       625.2          332         313.64  \n",
              "2            no       539.4          333         224.89  \n",
              "3            no       564.8          255         263.70  \n",
              "4            no       512.0          359         238.99  \n",
              "...         ...         ...          ...            ...  \n",
              "3328        yes       660.7          292         339.20  \n",
              "3329         no       585.4          239         254.83  \n",
              "3330         no       675.6          264         259.64  \n",
              "3331         no       517.6          336         196.73  \n",
              "3332        yes       755.4          276         318.41  \n",
              "\n",
              "[3333 rows x 9 columns]"
            ],
            "text/html": [
              "\n",
              "  <div id=\"df-adbd5973-0273-4df4-9d53-a0464ad277d5\">\n",
              "    <div class=\"colab-df-container\">\n",
              "      <div>\n",
              "<style scoped>\n",
              "    .dataframe tbody tr th:only-of-type {\n",
              "        vertical-align: middle;\n",
              "    }\n",
              "\n",
              "    .dataframe tbody tr th {\n",
              "        vertical-align: top;\n",
              "    }\n",
              "\n",
              "    .dataframe thead th {\n",
              "        text-align: right;\n",
              "    }\n",
              "</style>\n",
              "<table border=\"1\" class=\"dataframe\">\n",
              "  <thead>\n",
              "    <tr style=\"text-align: right;\">\n",
              "      <th></th>\n",
              "      <th>Account_Length</th>\n",
              "      <th>Vmail_Message</th>\n",
              "      <th>CustServ_Calls</th>\n",
              "      <th>Churn</th>\n",
              "      <th>Intl_Plan</th>\n",
              "      <th>Vmail_Plan</th>\n",
              "      <th>Total_mins</th>\n",
              "      <th>Total_calls</th>\n",
              "      <th>Total_charges</th>\n",
              "    </tr>\n",
              "  </thead>\n",
              "  <tbody>\n",
              "    <tr>\n",
              "      <th>0</th>\n",
              "      <td>128</td>\n",
              "      <td>25</td>\n",
              "      <td>1</td>\n",
              "      <td>no</td>\n",
              "      <td>no</td>\n",
              "      <td>yes</td>\n",
              "      <td>717.2</td>\n",
              "      <td>303</td>\n",
              "      <td>320.26</td>\n",
              "    </tr>\n",
              "    <tr>\n",
              "      <th>1</th>\n",
              "      <td>107</td>\n",
              "      <td>26</td>\n",
              "      <td>1</td>\n",
              "      <td>no</td>\n",
              "      <td>no</td>\n",
              "      <td>yes</td>\n",
              "      <td>625.2</td>\n",
              "      <td>332</td>\n",
              "      <td>313.64</td>\n",
              "    </tr>\n",
              "    <tr>\n",
              "      <th>2</th>\n",
              "      <td>137</td>\n",
              "      <td>0</td>\n",
              "      <td>0</td>\n",
              "      <td>no</td>\n",
              "      <td>no</td>\n",
              "      <td>no</td>\n",
              "      <td>539.4</td>\n",
              "      <td>333</td>\n",
              "      <td>224.89</td>\n",
              "    </tr>\n",
              "    <tr>\n",
              "      <th>3</th>\n",
              "      <td>84</td>\n",
              "      <td>0</td>\n",
              "      <td>2</td>\n",
              "      <td>no</td>\n",
              "      <td>yes</td>\n",
              "      <td>no</td>\n",
              "      <td>564.8</td>\n",
              "      <td>255</td>\n",
              "      <td>263.70</td>\n",
              "    </tr>\n",
              "    <tr>\n",
              "      <th>4</th>\n",
              "      <td>75</td>\n",
              "      <td>0</td>\n",
              "      <td>3</td>\n",
              "      <td>no</td>\n",
              "      <td>yes</td>\n",
              "      <td>no</td>\n",
              "      <td>512.0</td>\n",
              "      <td>359</td>\n",
              "      <td>238.99</td>\n",
              "    </tr>\n",
              "    <tr>\n",
              "      <th>...</th>\n",
              "      <td>...</td>\n",
              "      <td>...</td>\n",
              "      <td>...</td>\n",
              "      <td>...</td>\n",
              "      <td>...</td>\n",
              "      <td>...</td>\n",
              "      <td>...</td>\n",
              "      <td>...</td>\n",
              "      <td>...</td>\n",
              "    </tr>\n",
              "    <tr>\n",
              "      <th>3328</th>\n",
              "      <td>192</td>\n",
              "      <td>36</td>\n",
              "      <td>2</td>\n",
              "      <td>no</td>\n",
              "      <td>no</td>\n",
              "      <td>yes</td>\n",
              "      <td>660.7</td>\n",
              "      <td>292</td>\n",
              "      <td>339.20</td>\n",
              "    </tr>\n",
              "    <tr>\n",
              "      <th>3329</th>\n",
              "      <td>68</td>\n",
              "      <td>0</td>\n",
              "      <td>3</td>\n",
              "      <td>no</td>\n",
              "      <td>no</td>\n",
              "      <td>no</td>\n",
              "      <td>585.4</td>\n",
              "      <td>239</td>\n",
              "      <td>254.83</td>\n",
              "    </tr>\n",
              "    <tr>\n",
              "      <th>3330</th>\n",
              "      <td>28</td>\n",
              "      <td>0</td>\n",
              "      <td>2</td>\n",
              "      <td>no</td>\n",
              "      <td>no</td>\n",
              "      <td>no</td>\n",
              "      <td>675.6</td>\n",
              "      <td>264</td>\n",
              "      <td>259.64</td>\n",
              "    </tr>\n",
              "    <tr>\n",
              "      <th>3331</th>\n",
              "      <td>184</td>\n",
              "      <td>0</td>\n",
              "      <td>2</td>\n",
              "      <td>no</td>\n",
              "      <td>yes</td>\n",
              "      <td>no</td>\n",
              "      <td>517.6</td>\n",
              "      <td>336</td>\n",
              "      <td>196.73</td>\n",
              "    </tr>\n",
              "    <tr>\n",
              "      <th>3332</th>\n",
              "      <td>74</td>\n",
              "      <td>25</td>\n",
              "      <td>0</td>\n",
              "      <td>no</td>\n",
              "      <td>no</td>\n",
              "      <td>yes</td>\n",
              "      <td>755.4</td>\n",
              "      <td>276</td>\n",
              "      <td>318.41</td>\n",
              "    </tr>\n",
              "  </tbody>\n",
              "</table>\n",
              "<p>3333 rows × 9 columns</p>\n",
              "</div>\n",
              "      <button class=\"colab-df-convert\" onclick=\"convertToInteractive('df-adbd5973-0273-4df4-9d53-a0464ad277d5')\"\n",
              "              title=\"Convert this dataframe to an interactive table.\"\n",
              "              style=\"display:none;\">\n",
              "        \n",
              "  <svg xmlns=\"http://www.w3.org/2000/svg\" height=\"24px\"viewBox=\"0 0 24 24\"\n",
              "       width=\"24px\">\n",
              "    <path d=\"M0 0h24v24H0V0z\" fill=\"none\"/>\n",
              "    <path d=\"M18.56 5.44l.94 2.06.94-2.06 2.06-.94-2.06-.94-.94-2.06-.94 2.06-2.06.94zm-11 1L8.5 8.5l.94-2.06 2.06-.94-2.06-.94L8.5 2.5l-.94 2.06-2.06.94zm10 10l.94 2.06.94-2.06 2.06-.94-2.06-.94-.94-2.06-.94 2.06-2.06.94z\"/><path d=\"M17.41 7.96l-1.37-1.37c-.4-.4-.92-.59-1.43-.59-.52 0-1.04.2-1.43.59L10.3 9.45l-7.72 7.72c-.78.78-.78 2.05 0 2.83L4 21.41c.39.39.9.59 1.41.59.51 0 1.02-.2 1.41-.59l7.78-7.78 2.81-2.81c.8-.78.8-2.07 0-2.86zM5.41 20L4 18.59l7.72-7.72 1.47 1.35L5.41 20z\"/>\n",
              "  </svg>\n",
              "      </button>\n",
              "      \n",
              "  <style>\n",
              "    .colab-df-container {\n",
              "      display:flex;\n",
              "      flex-wrap:wrap;\n",
              "      gap: 12px;\n",
              "    }\n",
              "\n",
              "    .colab-df-convert {\n",
              "      background-color: #E8F0FE;\n",
              "      border: none;\n",
              "      border-radius: 50%;\n",
              "      cursor: pointer;\n",
              "      display: none;\n",
              "      fill: #1967D2;\n",
              "      height: 32px;\n",
              "      padding: 0 0 0 0;\n",
              "      width: 32px;\n",
              "    }\n",
              "\n",
              "    .colab-df-convert:hover {\n",
              "      background-color: #E2EBFA;\n",
              "      box-shadow: 0px 1px 2px rgba(60, 64, 67, 0.3), 0px 1px 3px 1px rgba(60, 64, 67, 0.15);\n",
              "      fill: #174EA6;\n",
              "    }\n",
              "\n",
              "    [theme=dark] .colab-df-convert {\n",
              "      background-color: #3B4455;\n",
              "      fill: #D2E3FC;\n",
              "    }\n",
              "\n",
              "    [theme=dark] .colab-df-convert:hover {\n",
              "      background-color: #434B5C;\n",
              "      box-shadow: 0px 1px 3px 1px rgba(0, 0, 0, 0.15);\n",
              "      filter: drop-shadow(0px 1px 2px rgba(0, 0, 0, 0.3));\n",
              "      fill: #FFFFFF;\n",
              "    }\n",
              "  </style>\n",
              "\n",
              "      <script>\n",
              "        const buttonEl =\n",
              "          document.querySelector('#df-adbd5973-0273-4df4-9d53-a0464ad277d5 button.colab-df-convert');\n",
              "        buttonEl.style.display =\n",
              "          google.colab.kernel.accessAllowed ? 'block' : 'none';\n",
              "\n",
              "        async function convertToInteractive(key) {\n",
              "          const element = document.querySelector('#df-adbd5973-0273-4df4-9d53-a0464ad277d5');\n",
              "          const dataTable =\n",
              "            await google.colab.kernel.invokeFunction('convertToInteractive',\n",
              "                                                     [key], {});\n",
              "          if (!dataTable) return;\n",
              "\n",
              "          const docLinkHtml = 'Like what you see? Visit the ' +\n",
              "            '<a target=\"_blank\" href=https://colab.research.google.com/notebooks/data_table.ipynb>data table notebook</a>'\n",
              "            + ' to learn more about interactive tables.';\n",
              "          element.innerHTML = '';\n",
              "          dataTable['output_type'] = 'display_data';\n",
              "          await google.colab.output.renderOutput(dataTable, element);\n",
              "          const docLink = document.createElement('div');\n",
              "          docLink.innerHTML = docLinkHtml;\n",
              "          element.appendChild(docLink);\n",
              "        }\n",
              "      </script>\n",
              "    </div>\n",
              "  </div>\n",
              "  "
            ]
          },
          "metadata": {}
        }
      ]
    },
    {
      "cell_type": "code",
      "source": [
        "print(type(df))"
      ],
      "metadata": {
        "colab": {
          "base_uri": "https://localhost:8080/"
        },
        "id": "5kdvWioWWvBT",
        "outputId": "e224521f-ff89-4963-a702-5dbb1b8df381"
      },
      "execution_count": 85,
      "outputs": [
        {
          "output_type": "stream",
          "name": "stdout",
          "text": [
            "<class 'pandas.core.frame.DataFrame'>\n"
          ]
        }
      ]
    },
    {
      "cell_type": "code",
      "source": [
        "print(df.shape)\n",
        "print(\"number of rows =\",df.shape[0])\n",
        "print(\"number of columns =\",df.shape[1])"
      ],
      "metadata": {
        "colab": {
          "base_uri": "https://localhost:8080/"
        },
        "id": "TliymlykiCxb",
        "outputId": "d1e09b8c-e057-408a-c5dd-13427e5aa80a"
      },
      "execution_count": 87,
      "outputs": [
        {
          "output_type": "stream",
          "name": "stdout",
          "text": [
            "(3333, 9)\n",
            "number of rows = 3333\n",
            "number of columns = 9\n"
          ]
        }
      ]
    },
    {
      "cell_type": "markdown",
      "source": [
        "# Check the coloumn types & Look for missing values"
      ],
      "metadata": {
        "id": "EHwmUJydjBuZ"
      }
    },
    {
      "cell_type": "code",
      "source": [
        "print(df.info())"
      ],
      "metadata": {
        "colab": {
          "base_uri": "https://localhost:8080/"
        },
        "id": "G893z_G0iGyC",
        "outputId": "9bd580ea-beed-4c82-9188-23d5febeeab2"
      },
      "execution_count": 88,
      "outputs": [
        {
          "output_type": "stream",
          "name": "stdout",
          "text": [
            "<class 'pandas.core.frame.DataFrame'>\n",
            "RangeIndex: 3333 entries, 0 to 3332\n",
            "Data columns (total 9 columns):\n",
            " #   Column          Non-Null Count  Dtype  \n",
            "---  ------          --------------  -----  \n",
            " 0   Account_Length  3333 non-null   int64  \n",
            " 1   Vmail_Message   3333 non-null   int64  \n",
            " 2   CustServ_Calls  3333 non-null   int64  \n",
            " 3   Churn           3333 non-null   object \n",
            " 4   Intl_Plan       3333 non-null   object \n",
            " 5   Vmail_Plan      3333 non-null   object \n",
            " 6   Total_mins      3333 non-null   float64\n",
            " 7   Total_calls     3333 non-null   int64  \n",
            " 8   Total_charges   3333 non-null   float64\n",
            "dtypes: float64(2), int64(4), object(3)\n",
            "memory usage: 234.5+ KB\n",
            "None\n"
          ]
        }
      ]
    },
    {
      "cell_type": "code",
      "source": [
        "df[\"Churn\"].value_counts()"
      ],
      "metadata": {
        "colab": {
          "base_uri": "https://localhost:8080/"
        },
        "id": "pvYZnqxXjO38",
        "outputId": "7b4f76f3-88d0-42ef-a706-a5e419a7dac2"
      },
      "execution_count": 89,
      "outputs": [
        {
          "output_type": "execute_result",
          "data": {
            "text/plain": [
              "no     2850\n",
              "yes     483\n",
              "Name: Churn, dtype: int64"
            ]
          },
          "metadata": {},
          "execution_count": 89
        }
      ]
    },
    {
      "cell_type": "code",
      "source": [
        "df[\"Intl_Plan\"].value_counts()"
      ],
      "metadata": {
        "colab": {
          "base_uri": "https://localhost:8080/"
        },
        "id": "7FPRzvCtmt1H",
        "outputId": "85285a11-2531-49a7-f290-e651de54bc6a"
      },
      "execution_count": 90,
      "outputs": [
        {
          "output_type": "execute_result",
          "data": {
            "text/plain": [
              "no     3010\n",
              "yes     323\n",
              "Name: Intl_Plan, dtype: int64"
            ]
          },
          "metadata": {},
          "execution_count": 90
        }
      ]
    },
    {
      "cell_type": "code",
      "source": [
        "df[\"Vmail_Plan\"].value_counts()"
      ],
      "metadata": {
        "colab": {
          "base_uri": "https://localhost:8080/"
        },
        "id": "pS1ffO-jmx8A",
        "outputId": "00d6add7-e7ea-497a-aa11-ce528bb1da6b"
      },
      "execution_count": 91,
      "outputs": [
        {
          "output_type": "execute_result",
          "data": {
            "text/plain": [
              "no     2411\n",
              "yes     922\n",
              "Name: Vmail_Plan, dtype: int64"
            ]
          },
          "metadata": {},
          "execution_count": 91
        }
      ]
    },
    {
      "cell_type": "code",
      "source": [
        "display(df.describe())"
      ],
      "metadata": {
        "colab": {
          "base_uri": "https://localhost:8080/",
          "height": 300
        },
        "id": "vEqI_hJ5m5Q6",
        "outputId": "ca0f816c-3248-4520-f153-faf03988acac"
      },
      "execution_count": 93,
      "outputs": [
        {
          "output_type": "display_data",
          "data": {
            "text/plain": [
              "       Account_Length  Vmail_Message  CustServ_Calls   Total_mins  \\\n",
              "count     3333.000000    3333.000000     3333.000000  3333.000000   \n",
              "mean       101.064806       8.099010        1.562856   591.864776   \n",
              "std         39.822106      13.688365        1.315491    89.954251   \n",
              "min          1.000000       0.000000        0.000000   284.300000   \n",
              "25%         74.000000       0.000000        1.000000   531.500000   \n",
              "50%        101.000000       0.000000        1.000000   593.600000   \n",
              "75%        127.000000      20.000000        2.000000   652.400000   \n",
              "max        243.000000      51.000000        9.000000   885.000000   \n",
              "\n",
              "       Total_calls  Total_charges  \n",
              "count  3333.000000    3333.000000  \n",
              "mean    305.137114     260.321791  \n",
              "std      34.448164      53.810896  \n",
              "min     191.000000      68.370000  \n",
              "25%     282.000000     224.220000  \n",
              "50%     305.000000     260.560000  \n",
              "75%     328.000000     295.410000  \n",
              "max     416.000000     460.630000  "
            ],
            "text/html": [
              "\n",
              "  <div id=\"df-c0dc1832-d5a8-4524-9c56-0f5fa698076f\">\n",
              "    <div class=\"colab-df-container\">\n",
              "      <div>\n",
              "<style scoped>\n",
              "    .dataframe tbody tr th:only-of-type {\n",
              "        vertical-align: middle;\n",
              "    }\n",
              "\n",
              "    .dataframe tbody tr th {\n",
              "        vertical-align: top;\n",
              "    }\n",
              "\n",
              "    .dataframe thead th {\n",
              "        text-align: right;\n",
              "    }\n",
              "</style>\n",
              "<table border=\"1\" class=\"dataframe\">\n",
              "  <thead>\n",
              "    <tr style=\"text-align: right;\">\n",
              "      <th></th>\n",
              "      <th>Account_Length</th>\n",
              "      <th>Vmail_Message</th>\n",
              "      <th>CustServ_Calls</th>\n",
              "      <th>Total_mins</th>\n",
              "      <th>Total_calls</th>\n",
              "      <th>Total_charges</th>\n",
              "    </tr>\n",
              "  </thead>\n",
              "  <tbody>\n",
              "    <tr>\n",
              "      <th>count</th>\n",
              "      <td>3333.000000</td>\n",
              "      <td>3333.000000</td>\n",
              "      <td>3333.000000</td>\n",
              "      <td>3333.000000</td>\n",
              "      <td>3333.000000</td>\n",
              "      <td>3333.000000</td>\n",
              "    </tr>\n",
              "    <tr>\n",
              "      <th>mean</th>\n",
              "      <td>101.064806</td>\n",
              "      <td>8.099010</td>\n",
              "      <td>1.562856</td>\n",
              "      <td>591.864776</td>\n",
              "      <td>305.137114</td>\n",
              "      <td>260.321791</td>\n",
              "    </tr>\n",
              "    <tr>\n",
              "      <th>std</th>\n",
              "      <td>39.822106</td>\n",
              "      <td>13.688365</td>\n",
              "      <td>1.315491</td>\n",
              "      <td>89.954251</td>\n",
              "      <td>34.448164</td>\n",
              "      <td>53.810896</td>\n",
              "    </tr>\n",
              "    <tr>\n",
              "      <th>min</th>\n",
              "      <td>1.000000</td>\n",
              "      <td>0.000000</td>\n",
              "      <td>0.000000</td>\n",
              "      <td>284.300000</td>\n",
              "      <td>191.000000</td>\n",
              "      <td>68.370000</td>\n",
              "    </tr>\n",
              "    <tr>\n",
              "      <th>25%</th>\n",
              "      <td>74.000000</td>\n",
              "      <td>0.000000</td>\n",
              "      <td>1.000000</td>\n",
              "      <td>531.500000</td>\n",
              "      <td>282.000000</td>\n",
              "      <td>224.220000</td>\n",
              "    </tr>\n",
              "    <tr>\n",
              "      <th>50%</th>\n",
              "      <td>101.000000</td>\n",
              "      <td>0.000000</td>\n",
              "      <td>1.000000</td>\n",
              "      <td>593.600000</td>\n",
              "      <td>305.000000</td>\n",
              "      <td>260.560000</td>\n",
              "    </tr>\n",
              "    <tr>\n",
              "      <th>75%</th>\n",
              "      <td>127.000000</td>\n",
              "      <td>20.000000</td>\n",
              "      <td>2.000000</td>\n",
              "      <td>652.400000</td>\n",
              "      <td>328.000000</td>\n",
              "      <td>295.410000</td>\n",
              "    </tr>\n",
              "    <tr>\n",
              "      <th>max</th>\n",
              "      <td>243.000000</td>\n",
              "      <td>51.000000</td>\n",
              "      <td>9.000000</td>\n",
              "      <td>885.000000</td>\n",
              "      <td>416.000000</td>\n",
              "      <td>460.630000</td>\n",
              "    </tr>\n",
              "  </tbody>\n",
              "</table>\n",
              "</div>\n",
              "      <button class=\"colab-df-convert\" onclick=\"convertToInteractive('df-c0dc1832-d5a8-4524-9c56-0f5fa698076f')\"\n",
              "              title=\"Convert this dataframe to an interactive table.\"\n",
              "              style=\"display:none;\">\n",
              "        \n",
              "  <svg xmlns=\"http://www.w3.org/2000/svg\" height=\"24px\"viewBox=\"0 0 24 24\"\n",
              "       width=\"24px\">\n",
              "    <path d=\"M0 0h24v24H0V0z\" fill=\"none\"/>\n",
              "    <path d=\"M18.56 5.44l.94 2.06.94-2.06 2.06-.94-2.06-.94-.94-2.06-.94 2.06-2.06.94zm-11 1L8.5 8.5l.94-2.06 2.06-.94-2.06-.94L8.5 2.5l-.94 2.06-2.06.94zm10 10l.94 2.06.94-2.06 2.06-.94-2.06-.94-.94-2.06-.94 2.06-2.06.94z\"/><path d=\"M17.41 7.96l-1.37-1.37c-.4-.4-.92-.59-1.43-.59-.52 0-1.04.2-1.43.59L10.3 9.45l-7.72 7.72c-.78.78-.78 2.05 0 2.83L4 21.41c.39.39.9.59 1.41.59.51 0 1.02-.2 1.41-.59l7.78-7.78 2.81-2.81c.8-.78.8-2.07 0-2.86zM5.41 20L4 18.59l7.72-7.72 1.47 1.35L5.41 20z\"/>\n",
              "  </svg>\n",
              "      </button>\n",
              "      \n",
              "  <style>\n",
              "    .colab-df-container {\n",
              "      display:flex;\n",
              "      flex-wrap:wrap;\n",
              "      gap: 12px;\n",
              "    }\n",
              "\n",
              "    .colab-df-convert {\n",
              "      background-color: #E8F0FE;\n",
              "      border: none;\n",
              "      border-radius: 50%;\n",
              "      cursor: pointer;\n",
              "      display: none;\n",
              "      fill: #1967D2;\n",
              "      height: 32px;\n",
              "      padding: 0 0 0 0;\n",
              "      width: 32px;\n",
              "    }\n",
              "\n",
              "    .colab-df-convert:hover {\n",
              "      background-color: #E2EBFA;\n",
              "      box-shadow: 0px 1px 2px rgba(60, 64, 67, 0.3), 0px 1px 3px 1px rgba(60, 64, 67, 0.15);\n",
              "      fill: #174EA6;\n",
              "    }\n",
              "\n",
              "    [theme=dark] .colab-df-convert {\n",
              "      background-color: #3B4455;\n",
              "      fill: #D2E3FC;\n",
              "    }\n",
              "\n",
              "    [theme=dark] .colab-df-convert:hover {\n",
              "      background-color: #434B5C;\n",
              "      box-shadow: 0px 1px 3px 1px rgba(0, 0, 0, 0.15);\n",
              "      filter: drop-shadow(0px 1px 2px rgba(0, 0, 0, 0.3));\n",
              "      fill: #FFFFFF;\n",
              "    }\n",
              "  </style>\n",
              "\n",
              "      <script>\n",
              "        const buttonEl =\n",
              "          document.querySelector('#df-c0dc1832-d5a8-4524-9c56-0f5fa698076f button.colab-df-convert');\n",
              "        buttonEl.style.display =\n",
              "          google.colab.kernel.accessAllowed ? 'block' : 'none';\n",
              "\n",
              "        async function convertToInteractive(key) {\n",
              "          const element = document.querySelector('#df-c0dc1832-d5a8-4524-9c56-0f5fa698076f');\n",
              "          const dataTable =\n",
              "            await google.colab.kernel.invokeFunction('convertToInteractive',\n",
              "                                                     [key], {});\n",
              "          if (!dataTable) return;\n",
              "\n",
              "          const docLinkHtml = 'Like what you see? Visit the ' +\n",
              "            '<a target=\"_blank\" href=https://colab.research.google.com/notebooks/data_table.ipynb>data table notebook</a>'\n",
              "            + ' to learn more about interactive tables.';\n",
              "          element.innerHTML = '';\n",
              "          dataTable['output_type'] = 'display_data';\n",
              "          await google.colab.output.renderOutput(dataTable, element);\n",
              "          const docLink = document.createElement('div');\n",
              "          docLink.innerHTML = docLinkHtml;\n",
              "          element.appendChild(docLink);\n",
              "        }\n",
              "      </script>\n",
              "    </div>\n",
              "  </div>\n",
              "  "
            ]
          },
          "metadata": {}
        }
      ]
    },
    {
      "cell_type": "code",
      "source": [
        "df.describe(include=['O'])"
      ],
      "metadata": {
        "colab": {
          "base_uri": "https://localhost:8080/",
          "height": 175
        },
        "id": "es96FrOwoGBW",
        "outputId": "44688b04-e3a4-4140-890a-cbbc0e85b85d"
      },
      "execution_count": 94,
      "outputs": [
        {
          "output_type": "execute_result",
          "data": {
            "text/plain": [
              "       Churn Intl_Plan Vmail_Plan\n",
              "count   3333      3333       3333\n",
              "unique     2         2          2\n",
              "top       no        no         no\n",
              "freq    2850      3010       2411"
            ],
            "text/html": [
              "\n",
              "  <div id=\"df-e703a543-35f0-449c-b9e5-e728f85095ae\">\n",
              "    <div class=\"colab-df-container\">\n",
              "      <div>\n",
              "<style scoped>\n",
              "    .dataframe tbody tr th:only-of-type {\n",
              "        vertical-align: middle;\n",
              "    }\n",
              "\n",
              "    .dataframe tbody tr th {\n",
              "        vertical-align: top;\n",
              "    }\n",
              "\n",
              "    .dataframe thead th {\n",
              "        text-align: right;\n",
              "    }\n",
              "</style>\n",
              "<table border=\"1\" class=\"dataframe\">\n",
              "  <thead>\n",
              "    <tr style=\"text-align: right;\">\n",
              "      <th></th>\n",
              "      <th>Churn</th>\n",
              "      <th>Intl_Plan</th>\n",
              "      <th>Vmail_Plan</th>\n",
              "    </tr>\n",
              "  </thead>\n",
              "  <tbody>\n",
              "    <tr>\n",
              "      <th>count</th>\n",
              "      <td>3333</td>\n",
              "      <td>3333</td>\n",
              "      <td>3333</td>\n",
              "    </tr>\n",
              "    <tr>\n",
              "      <th>unique</th>\n",
              "      <td>2</td>\n",
              "      <td>2</td>\n",
              "      <td>2</td>\n",
              "    </tr>\n",
              "    <tr>\n",
              "      <th>top</th>\n",
              "      <td>no</td>\n",
              "      <td>no</td>\n",
              "      <td>no</td>\n",
              "    </tr>\n",
              "    <tr>\n",
              "      <th>freq</th>\n",
              "      <td>2850</td>\n",
              "      <td>3010</td>\n",
              "      <td>2411</td>\n",
              "    </tr>\n",
              "  </tbody>\n",
              "</table>\n",
              "</div>\n",
              "      <button class=\"colab-df-convert\" onclick=\"convertToInteractive('df-e703a543-35f0-449c-b9e5-e728f85095ae')\"\n",
              "              title=\"Convert this dataframe to an interactive table.\"\n",
              "              style=\"display:none;\">\n",
              "        \n",
              "  <svg xmlns=\"http://www.w3.org/2000/svg\" height=\"24px\"viewBox=\"0 0 24 24\"\n",
              "       width=\"24px\">\n",
              "    <path d=\"M0 0h24v24H0V0z\" fill=\"none\"/>\n",
              "    <path d=\"M18.56 5.44l.94 2.06.94-2.06 2.06-.94-2.06-.94-.94-2.06-.94 2.06-2.06.94zm-11 1L8.5 8.5l.94-2.06 2.06-.94-2.06-.94L8.5 2.5l-.94 2.06-2.06.94zm10 10l.94 2.06.94-2.06 2.06-.94-2.06-.94-.94-2.06-.94 2.06-2.06.94z\"/><path d=\"M17.41 7.96l-1.37-1.37c-.4-.4-.92-.59-1.43-.59-.52 0-1.04.2-1.43.59L10.3 9.45l-7.72 7.72c-.78.78-.78 2.05 0 2.83L4 21.41c.39.39.9.59 1.41.59.51 0 1.02-.2 1.41-.59l7.78-7.78 2.81-2.81c.8-.78.8-2.07 0-2.86zM5.41 20L4 18.59l7.72-7.72 1.47 1.35L5.41 20z\"/>\n",
              "  </svg>\n",
              "      </button>\n",
              "      \n",
              "  <style>\n",
              "    .colab-df-container {\n",
              "      display:flex;\n",
              "      flex-wrap:wrap;\n",
              "      gap: 12px;\n",
              "    }\n",
              "\n",
              "    .colab-df-convert {\n",
              "      background-color: #E8F0FE;\n",
              "      border: none;\n",
              "      border-radius: 50%;\n",
              "      cursor: pointer;\n",
              "      display: none;\n",
              "      fill: #1967D2;\n",
              "      height: 32px;\n",
              "      padding: 0 0 0 0;\n",
              "      width: 32px;\n",
              "    }\n",
              "\n",
              "    .colab-df-convert:hover {\n",
              "      background-color: #E2EBFA;\n",
              "      box-shadow: 0px 1px 2px rgba(60, 64, 67, 0.3), 0px 1px 3px 1px rgba(60, 64, 67, 0.15);\n",
              "      fill: #174EA6;\n",
              "    }\n",
              "\n",
              "    [theme=dark] .colab-df-convert {\n",
              "      background-color: #3B4455;\n",
              "      fill: #D2E3FC;\n",
              "    }\n",
              "\n",
              "    [theme=dark] .colab-df-convert:hover {\n",
              "      background-color: #434B5C;\n",
              "      box-shadow: 0px 1px 3px 1px rgba(0, 0, 0, 0.15);\n",
              "      filter: drop-shadow(0px 1px 2px rgba(0, 0, 0, 0.3));\n",
              "      fill: #FFFFFF;\n",
              "    }\n",
              "  </style>\n",
              "\n",
              "      <script>\n",
              "        const buttonEl =\n",
              "          document.querySelector('#df-e703a543-35f0-449c-b9e5-e728f85095ae button.colab-df-convert');\n",
              "        buttonEl.style.display =\n",
              "          google.colab.kernel.accessAllowed ? 'block' : 'none';\n",
              "\n",
              "        async function convertToInteractive(key) {\n",
              "          const element = document.querySelector('#df-e703a543-35f0-449c-b9e5-e728f85095ae');\n",
              "          const dataTable =\n",
              "            await google.colab.kernel.invokeFunction('convertToInteractive',\n",
              "                                                     [key], {});\n",
              "          if (!dataTable) return;\n",
              "\n",
              "          const docLinkHtml = 'Like what you see? Visit the ' +\n",
              "            '<a target=\"_blank\" href=https://colab.research.google.com/notebooks/data_table.ipynb>data table notebook</a>'\n",
              "            + ' to learn more about interactive tables.';\n",
              "          element.innerHTML = '';\n",
              "          dataTable['output_type'] = 'display_data';\n",
              "          await google.colab.output.renderOutput(dataTable, element);\n",
              "          const docLink = document.createElement('div');\n",
              "          docLink.innerHTML = docLinkHtml;\n",
              "          element.appendChild(docLink);\n",
              "        }\n",
              "      </script>\n",
              "    </div>\n",
              "  </div>\n",
              "  "
            ]
          },
          "metadata": {},
          "execution_count": 94
        }
      ]
    },
    {
      "cell_type": "code",
      "source": [],
      "metadata": {
        "id": "l9zB1YEToT4X"
      },
      "execution_count": null,
      "outputs": []
    }
  ]
}